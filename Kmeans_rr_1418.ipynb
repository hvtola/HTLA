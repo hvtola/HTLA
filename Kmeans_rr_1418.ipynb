{
 "cells": [
  {
   "cell_type": "code",
   "execution_count": null,
   "metadata": {
    "collapsed": true
   },
   "outputs": [],
   "source": [
    "from PIL import Image\n",
    "import os\n",
    "import sys\n",
    "import matplotlib.pyplot as plt\n",
    "import cv2\n",
    "import numpy as np\n",
    "from scipy import misc\n",
    "from sklearn.cluster import KMeans\n",
    "from sklearn.externals import joblib"
   ]
  },
  {
   "cell_type": "code",
   "execution_count": null,
   "outputs": [],
   "source": [
    "# ----------------------------------------------------------------------------------\n",
    "# Name:        Kmeans_rr_1418.ipynb\n",
    "# Purpose:     Calculate Kmeans clusters from xGeo precip maps between 2014 and 2018.\n",
    "#\n",
    "# Author:      hvtola\n",
    "#\n",
    "# Created:     11.07.2019\n",
    "# ----------------------------------------------------------------------------------"
   ],
   "metadata": {
    "collapsed": false,
    "pycharm": {
     "name": "#%%\n"
    }
   }
  },
  {
   "cell_type": "code",
   "execution_count": null,
   "outputs": [],
   "source": [
    "# Working directory\n",
    "os.chdir(\"C:\\\\Metdata\\\\rr\\\\1418\\\\\")\n",
    "\n",
    "# Create list with all filenames that should be processed\n",
    "rg = os.listdir()"
   ],
   "metadata": {
    "collapsed": false,
    "pycharm": {
     "name": "#%%\n"
    }
   }
  },
  {
   "cell_type": "code",
   "execution_count": null,
   "outputs": [],
   "source": [
    "# Rescale images\n",
    "\n",
    "def down_res(filename, scale_percent):\n",
    "    img = cv2.imread(filename)\n",
    "    # scale_percent = 50 # percent of original size\n",
    "    width = int(img.shape[1] * scale_percent / 100)\n",
    "    height = int(img.shape[0] * scale_percent / 100)\n",
    "    dim = (width, height)\n",
    "    # resize image\n",
    "    resized = cv2.resize(img, dim, interpolation = cv2.INTER_AREA)\n",
    "\n",
    "    # print('Resized Dimensions : ',resized.shape)\n",
    "\n",
    "    # cv2.imshow(\"Resized image\", resized)\n",
    "    \n",
    "    img = Image.fromarray(resized)\n",
    "    \n",
    "    return img"
   ],
   "metadata": {
    "collapsed": false,
    "pycharm": {
     "name": "#%%\n"
    }
   }
  },
  {
   "cell_type": "code",
   "execution_count": null,
   "outputs": [],
   "source": [
    "for i in rg:\n",
    "    img = down_res(i, 50)\n",
    "    img.save(i)"
   ],
   "metadata": {
    "collapsed": false,
    "pycharm": {
     "name": "#%%\n"
    }
   }
  },
  {
   "cell_type": "code",
   "execution_count": null,
   "outputs": [],
   "source": [
    "# Remove Parts of Image such as legend and dates\n",
    "\n",
    "def rpoi(filename):\n",
    "    # original image\n",
    "    # -1 loads as-is so if it will be 3 or 4 channel as the original\n",
    "    image = cv2.imread(filename, -1)\n",
    "    # mask defaulting to black for 3-channel and transparent for 4-channel\n",
    "    # (of course replace corners with yours)\n",
    "    mask = np.zeros(image.shape, dtype=np.uint8)\n",
    "    roi_corners = np.array([[(250,137), (425,0), (597,0), (597,200), (300,465), (300,777), (0,775), (0, 350)]], dtype=np.int32)\n",
    "    # fill the ROI so it doesn't get wiped out when the mask is applied\n",
    "    channel_count = image.shape[2]  # i.e. 3 or 4 depending on your image\n",
    "    ignore_mask_color = (255,)*channel_count\n",
    "    cv2.fillPoly(mask, roi_corners, ignore_mask_color)\n",
    "\n",
    "    # apply the mask\n",
    "    masked_image = cv2.bitwise_and(image, mask)\n",
    "    im = Image.fromarray(masked_image)\n",
    "    \n",
    "    return im"
   ],
   "metadata": {
    "collapsed": false,
    "pycharm": {
     "name": "#%%\n"
    }
   }
  },
  {
   "cell_type": "code",
   "execution_count": null,
   "outputs": [],
   "source": [
    "# NB! No other files than the files to be processed can be stored in the folder. E.g. .ovr files created when opening a .png in ArcMap will cause error. \n",
    "for i in rg:\n",
    "    im = rpoi(i)\n",
    "    im.save(i)"
   ],
   "metadata": {
    "collapsed": false,
    "pycharm": {
     "name": "#%%\n"
    }
   }
  },
  {
   "cell_type": "code",
   "execution_count": null,
   "outputs": [],
   "source": [
    "# Converts image into 1 bit data for fast processing\n",
    "def oneband(filename):\n",
    "    img = Image.open(filename)\n",
    "    ur = img.convert(mode='1', matrix=None, dither=None, palette=0, colors=256)\n",
    "    \n",
    "    return ur"
   ],
   "metadata": {
    "collapsed": false,
    "pycharm": {
     "name": "#%%\n"
    }
   }
  },
  {
   "cell_type": "code",
   "execution_count": null,
   "outputs": [],
   "source": [
    "for i in rg:\n",
    "    im = oneband(i)\n",
    "    im.save(i)\n"
   ],
   "metadata": {
    "collapsed": false,
    "pycharm": {
     "name": "#%%\n"
    }
   }
  },
  {
   "cell_type": "code",
   "execution_count": null,
   "outputs": [],
   "source": [
    "# Open NumPy array with all images (should be 3 bands; number of images, height, width) \n",
    "\n",
    "x = np.array([np.array(Image.open(fname)) for fname in rg])"
   ],
   "metadata": {
    "collapsed": false,
    "pycharm": {
     "name": "#%%\n"
    }
   }
  },
  {
   "cell_type": "code",
   "execution_count": null,
   "outputs": [],
   "source": [
    "x.shape"
   ],
   "metadata": {
    "collapsed": false,
    "pycharm": {
     "name": "#%%\n"
    }
   }
  },
  {
   "cell_type": "code",
   "execution_count": null,
   "outputs": [],
   "source": [
    "# Flatten the images so they can be processed using Scikit.\n",
    "\n",
    "x = x.reshape(1949, 462675)"
   ],
   "metadata": {
    "collapsed": false,
    "pycharm": {
     "name": "#%%\n"
    }
   }
  },
  {
   "cell_type": "code",
   "execution_count": null,
   "outputs": [],
   "source": [
    "x.shape"
   ],
   "metadata": {
    "collapsed": false,
    "pycharm": {
     "name": "#%%\n"
    }
   }
  },
  {
   "cell_type": "code",
   "execution_count": null,
   "outputs": [],
   "source": [
    "# Fit Kmeans with x clusters\n",
    "\n",
    "kmeans = KMeans(n_clusters=10, random_state=0)\n",
    "clusters = kmeans.fit_predict(x)\n",
    "kmeans.cluster_centers_.shape"
   ],
   "metadata": {
    "collapsed": false,
    "pycharm": {
     "name": "#%%\n"
    }
   }
  },
  {
   "cell_type": "code",
   "execution_count": null,
   "outputs": [],
   "source": [
    "# Plot the result in subplots\n",
    "\n",
    "fig, ax = plt.subplots(2, 5, figsize=(160, 60))\n",
    "centers = kmeans.cluster_centers_.reshape(10, 775, 597)\n",
    "for axi, center in zip(ax.flat, centers):\n",
    "    axi.set(xticks=[], yticks=[])\n",
    "    axi.imshow(center, interpolation='nearest', cmap=plt.cm.binary)"
   ],
   "metadata": {
    "collapsed": false,
    "pycharm": {
     "name": "#%%\n"
    }
   }
  },
  {
   "cell_type": "code",
   "execution_count": null,
   "outputs": [],
   "source": [
    "centers.shape"
   ],
   "metadata": {
    "collapsed": false,
    "pycharm": {
     "name": "#%%\n"
    }
   }
  },
  {
   "cell_type": "code",
   "execution_count": null,
   "outputs": [],
   "source": [
    "# Save the predicted model\n",
    "\n",
    "filename = 'finalized_kmeans.sav'\n",
    "joblib.dump(centers, filename)"
   ],
   "metadata": {
    "collapsed": false,
    "pycharm": {
     "name": "#%%\n"
    }
   }
  },
  {
   "cell_type": "code",
   "execution_count": null,
   "outputs": [],
   "source": [
    "\n"
   ],
   "metadata": {
    "collapsed": false,
    "pycharm": {
     "name": "#%%\n"
    }
   }
  }
 ],
 "metadata": {
  "language_info": {
   "codemirror_mode": {
    "name": "ipython",
    "version": 2
   },
   "file_extension": ".py",
   "mimetype": "text/x-python",
   "name": "python",
   "nbconvert_exporter": "python",
   "pygments_lexer": "ipython2",
   "version": "2.7.6"
  },
  "kernelspec": {
   "name": "python3",
   "language": "python",
   "display_name": "Python 3"
  },
  "pycharm": {
   "stem_cell": {
    "cell_type": "raw",
    "source": [],
    "metadata": {
     "collapsed": false
    }
   }
  }
 },
 "nbformat": 4,
 "nbformat_minor": 0
}